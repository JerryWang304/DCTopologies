{
 "cells": [
  {
   "cell_type": "code",
   "execution_count": 3,
   "metadata": {
    "collapsed": false
   },
   "outputs": [
    {
     "name": "stdout",
     "output_type": "stream",
     "text": [
      "0.363636363636 0.340425531915 0.5 0.625 0.625 0.947368421053 0.452830188679 0.833333333333 0.833333333333\n"
     ]
    }
   ],
   "source": [
    "from DCTopo import *\n",
    "def f(topo):\n",
    "    num_of_edges = len(topo.edges())\n",
    "    num_of_nodes = len(topo.nodes())\n",
    "    return num_of_nodes*1.0/num_of_edges\n",
    "topos = [SWRing(12),SW2D(4),LongHop(4,5),F10(4,2),FatTree(4),FlattenedButterfly(4,2),SW3D(6),HyperX(L=2,S=3,T=4),DCell(4,1)]\n",
    "for el in topos:\n",
    "    result = f(el.topo)\n",
    "    print result,"
   ]
  },
  {
   "cell_type": "code",
   "execution_count": null,
   "metadata": {
    "collapsed": true
   },
   "outputs": [],
   "source": []
  }
 ],
 "metadata": {
  "kernelspec": {
   "display_name": "Python 2",
   "language": "python",
   "name": "python2"
  },
  "language_info": {
   "codemirror_mode": {
    "name": "ipython",
    "version": 2
   },
   "file_extension": ".py",
   "mimetype": "text/x-python",
   "name": "python",
   "nbconvert_exporter": "python",
   "pygments_lexer": "ipython2",
   "version": "2.7.11"
  }
 },
 "nbformat": 4,
 "nbformat_minor": 0
}
