{
 "cells": [
  {
   "cell_type": "code",
   "execution_count": 4,
   "metadata": {
    "collapsed": false
   },
   "outputs": [],
   "source": [
    "import networkx"
   ]
  },
  {
   "cell_type": "code",
   "execution_count": 5,
   "metadata": {
    "collapsed": false
   },
   "outputs": [
    {
     "data": {
      "text/plain": [
       "3"
      ]
     },
     "execution_count": 5,
     "metadata": {},
     "output_type": "execute_result"
    }
   ],
   "source": [
    "3"
   ]
  },
  {
   "cell_type": "code",
   "execution_count": 6,
   "metadata": {
    "collapsed": false
   },
   "outputs": [
    {
     "data": {
      "text/plain": [
       "2"
      ]
     },
     "execution_count": 6,
     "metadata": {},
     "output_type": "execute_result"
    }
   ],
   "source": [
    "2\n"
   ]
  },
  {
   "cell_type": "code",
   "execution_count": 12,
   "metadata": {
    "collapsed": false
   },
   "outputs": [
    {
     "name": "stdout",
     "output_type": "stream",
     "text": [
      "entering \n",
      "I f\n",
      "exiting\n",
      "entering \n",
      "I f2\n",
      "exiting\n"
     ]
    }
   ],
   "source": [
    "class my(object):\n",
    "    def __init__(self,f):\n",
    "        self.f = f\n",
    "    def __call__(self):\n",
    "        print \"entering \"\n",
    "        self.f()\n",
    "        print \"exiting\"\n",
    "        \n",
    "@my\n",
    "def f():\n",
    "    print \"I f\"\n",
    "    \n",
    "@my\n",
    "def f2():\n",
    "    print \"I f2\"\n",
    "f()\n",
    "f2()"
   ]
  },
  {
   "cell_type": "code",
   "execution_count": 15,
   "metadata": {
    "collapsed": false
   },
   "outputs": [
    {
     "name": "stdout",
     "output_type": "stream",
     "text": [
      "1.9.5\n"
     ]
    }
   ],
   "source": [
    "# Django\n",
    "import django\n",
    "print django.get_version()"
   ]
  },
  {
   "cell_type": "code",
   "execution_count": 7,
   "metadata": {
    "collapsed": false
   },
   "outputs": [
    {
     "name": "stdout",
     "output_type": "stream",
     "text": [
      "Employee.__doc__: \n",
      "   This is the base class for all employees\n",
      "   \n",
      "Employee.__name__: Employee\n",
      "Employee.__module__: __main__\n",
      "Employee.__bases__: (<type 'object'>,)\n",
      "Employee.__dict__: {'displayEmployee': <function displayEmployee at 0x1040578c0>, '__module__': '__main__', 'displayCount': <function displayCount at 0x104057d70>, '__dict__': <attribute '__dict__' of 'Employee' objects>, 'empCount': 0, '__weakref__': <attribute '__weakref__' of 'Employee' objects>, '__doc__': '\\n   This is the base class for all employees\\n   ', '__init__': <function __init__ at 0x104057c08>}\n"
     ]
    }
   ],
   "source": [
    "class Employee(object):\n",
    "   \"\"\"\n",
    "   This is the base class for all employees\n",
    "   \"\"\"\n",
    "   empCount = 0\n",
    "   def __init__(self, name, salary):\n",
    "      self.name = name\n",
    "      self.salary = salary\n",
    "      Employee.empCount += 1\n",
    "        \n",
    "   def displayCount(self):\n",
    "       print \"Total Employee %d\" % Employee.empCount\n",
    "\n",
    "   def displayEmployee(self):\n",
    "       print \"Name : \", self.name,  \", Salary: \", self.salary\n",
    "\n",
    "print \"Employee.__doc__:\", Employee.__doc__\n",
    "print \"Employee.__name__:\", Employee.__name__\n",
    "print \"Employee.__module__:\", Employee.__module__\n",
    "print \"Employee.__bases__:\", Employee.__bases__\n",
    "print \"Employee.__dict__:\", Employee.__dict__"
   ]
  },
  {
   "cell_type": "code",
   "execution_count": null,
   "metadata": {
    "collapsed": true
   },
   "outputs": [],
   "source": []
  }
 ],
 "metadata": {
  "kernelspec": {
   "display_name": "Python 2",
   "language": "python",
   "name": "python2"
  },
  "language_info": {
   "codemirror_mode": {
    "name": "ipython",
    "version": 2
   },
   "file_extension": ".py",
   "mimetype": "text/x-python",
   "name": "python",
   "nbconvert_exporter": "python",
   "pygments_lexer": "ipython2",
   "version": "2.7.11"
  }
 },
 "nbformat": 4,
 "nbformat_minor": 0
}
